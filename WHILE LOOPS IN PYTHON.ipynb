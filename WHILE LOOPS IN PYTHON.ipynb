{
 "cells": [
  {
   "cell_type": "markdown",
   "id": "52b805c6-ed75-4417-b52c-1e5875077b1f",
   "metadata": {},
   "source": [
    "WHILE LOOPS"
   ]
  },
  {
   "cell_type": "code",
   "execution_count": 1,
   "id": "119b3f5c-6730-4bd3-a4b7-37afce1eb2d8",
   "metadata": {},
   "outputs": [
    {
     "name": "stdout",
     "output_type": "stream",
     "text": [
      "AA\n",
      "AAA\n",
      "AAAA\n",
      "AAAAA\n",
      "AAAAAA\n",
      "AAAAAAA\n",
      "AAAAAAAA\n",
      "Done !!\n"
     ]
    }
   ],
   "source": [
    "guess_count = 2\n",
    "while guess_count <= 8:\n",
    "    print(\"A\" * guess_count)\n",
    "    guess_count = guess_count + 1\n",
    "print(\"Done !!\")"
   ]
  },
  {
   "cell_type": "code",
   "execution_count": 3,
   "id": "98639dca-32e8-4954-b7d5-ed94fc509c2d",
   "metadata": {},
   "outputs": [
    {
     "name": "stdin",
     "output_type": "stream",
     "text": [
      "Guess the number!! :  6\n",
      "Guess the number!! :  9\n"
     ]
    },
    {
     "name": "stdout",
     "output_type": "stream",
     "text": [
      "You Guess the correct number\n"
     ]
    }
   ],
   "source": [
    "#click at any character - refractor - rename\n",
    "secret_number = 9\n",
    "guess_count = 1\n",
    "guess_limit = 3\n",
    "while guess_count <= guess_limit:\n",
    "    number = int(input(\"Guess the number!! : \"))\n",
    "    guess_count+=1\n",
    "    if number == secret_number:\n",
    "        print(\"You Guess the correct number\")\n",
    "        break #here i use break statement to ensure program stop once i guess 9.\n",
    "else:\n",
    "    print(\"You Fail\")"
   ]
  },
  {
   "cell_type": "markdown",
   "id": "f8d6424b-75d7-442f-8e2a-39d2c0dc4a19",
   "metadata": {},
   "source": [
    "CAR GAME"
   ]
  },
  {
   "cell_type": "markdown",
   "id": "0c607660-4a10-49c3-b484-6380966efa3e",
   "metadata": {},
   "source": [
    "command = \"\"\n",
    "#while command.title() != \"Quit\": #we can use while = True: because we have already mentioned\n",
    "while True: #while true means this block of code will repeat repeatedly untill break statement appear.\n",
    "    command = input(\"> \") #we can add .upper() here instaed of adding it everywhere.\n",
    "    if command.title() == \"Start\":\n",
    "            print(\"Car Started\")\n",
    "    elif command.title() == \"Stop\":\n",
    "            print(\"Car Stopped\")\n",
    "    elif command.title() == \"Help\":\n",
    "        print('''\n",
    "        Start - To Start the Car.\n",
    "        Stop - To Stop The car.\n",
    "        Quit - To Quit the Car.\n",
    "        ''')\n",
    "    elif command.title() == \"Quit\":\n",
    "        print(\"Proces is finished.\")\n",
    "        break\n",
    "    else:\n",
    "        print(\"Enter the correct command\\nI don't understand that\")"
   ]
  },
  {
   "cell_type": "code",
   "execution_count": null,
   "id": "576a06d5-7c53-46c4-88f6-e75b539bb021",
   "metadata": {},
   "outputs": [],
   "source": [
    "CAR GAME"
   ]
  },
  {
   "cell_type": "code",
   "execution_count": 5,
   "id": "c0e07c08-959f-4d36-b36e-79c9111c460f",
   "metadata": {},
   "outputs": [
    {
     "name": "stdin",
     "output_type": "stream",
     "text": [
      ">  started\n"
     ]
    },
    {
     "name": "stdout",
     "output_type": "stream",
     "text": [
      "Enter the correct command\n",
      "I don't understand that\n"
     ]
    },
    {
     "name": "stdin",
     "output_type": "stream",
     "text": [
      ">  start\n"
     ]
    },
    {
     "name": "stdout",
     "output_type": "stream",
     "text": [
      "Car Started\n"
     ]
    },
    {
     "name": "stdin",
     "output_type": "stream",
     "text": [
      ">  start\n"
     ]
    },
    {
     "name": "stdout",
     "output_type": "stream",
     "text": [
      "Car is already started\n"
     ]
    },
    {
     "name": "stdin",
     "output_type": "stream",
     "text": [
      ">  stop\n"
     ]
    },
    {
     "name": "stdout",
     "output_type": "stream",
     "text": [
      "Car Stopped\n"
     ]
    },
    {
     "name": "stdin",
     "output_type": "stream",
     "text": [
      ">  stop\n"
     ]
    },
    {
     "name": "stdout",
     "output_type": "stream",
     "text": [
      "Car is already stopped\n"
     ]
    },
    {
     "name": "stdin",
     "output_type": "stream",
     "text": [
      ">  quit\n"
     ]
    },
    {
     "name": "stdout",
     "output_type": "stream",
     "text": [
      "Proces is finished.\n"
     ]
    }
   ],
   "source": [
    "command = \"\"\n",
    "started = False\n",
    "stopped = False\n",
    "#while command.title() != \"Quit\": #we can use while = True: because we have already mentioned\n",
    "while True: #while true means this block of code will repeat repeatedly untill break statement appear.\n",
    "    command = input(\"> \") #we can add .upper() here instaed of adding it everywhere.\n",
    "    if command.title() == \"Start\":\n",
    "        if started:\n",
    "            print(\"Car is already started\")\n",
    "        else:\n",
    "            started = True\n",
    "            print(\"Car Started\")\n",
    "    elif command.title() == \"Stop\":\n",
    "        if stopped:\n",
    "            print(\"Car is already stopped\")\n",
    "        else:\n",
    "            stopped = True\n",
    "            print(\"Car Stopped\")\n",
    "    elif command.title() == \"Help\":\n",
    "        print('''\n",
    "        Start - To Start the Car.\n",
    "        Stop - To Stop The car.\n",
    "        Quit - To Quit the Car.\n",
    "        ''')\n",
    "    elif command.title() == \"Quit\":\n",
    "        print(\"Proces is finished.\")\n",
    "        break\n",
    "    else:\n",
    "        print(\"Enter the correct command\\nI don't understand that\")"
   ]
  },
  {
   "cell_type": "code",
   "execution_count": null,
   "id": "37d5425f-c3fe-46d4-b067-ba9f68d9a299",
   "metadata": {},
   "outputs": [],
   "source": []
  }
 ],
 "metadata": {
  "kernelspec": {
   "display_name": "Python [conda env:base] *",
   "language": "python",
   "name": "conda-base-py"
  },
  "language_info": {
   "codemirror_mode": {
    "name": "ipython",
    "version": 3
   },
   "file_extension": ".py",
   "mimetype": "text/x-python",
   "name": "python",
   "nbconvert_exporter": "python",
   "pygments_lexer": "ipython3",
   "version": "3.13.5"
  }
 },
 "nbformat": 4,
 "nbformat_minor": 5
}
